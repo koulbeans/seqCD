{
 "cells": [
  {
   "cell_type": "markdown",
   "id": "36b2e40a-4e85-4200-ac64-f15374d8add0",
   "metadata": {},
   "source": [
    "# Capstone 2.1: Predicted Circular Dichroism Spectra from Primary Amino Acid Sequence\n",
    "\n",
    "## Data download and cleaning\n",
    "\n",
    "Data is coming from the Protein Circular Dichroism Data Bank (https://pcddb.cryst.bbk.ac.uk/).\n",
    "Citation information: The PCDDB (protein circular dichroism data bank): A bioinformatics resource for protein characterisations and methods development. Ramalli SG, Miles AJ, Janes RW, Wallace BA., J Mol Biol (2022) "
   ]
  },
  {
   "cell_type": "code",
   "execution_count": 1,
   "id": "f7a19f44-65b3-448f-8bab-bb9547527b9d",
   "metadata": {},
   "outputs": [],
   "source": [
    "# Packages\n",
    "import requests, io, re\n",
    "from zipfile import ZipFile\n",
    "import pandas as pd\n",
    "import seaborn as sns"
   ]
  },
  {
   "cell_type": "code",
   "execution_count": 2,
   "id": "cbf20a29-3eb7-42e7-9f73-2af901ab2e38",
   "metadata": {},
   "outputs": [],
   "source": [
    "data_url = \"https://pcddb.cryst.bbk.ac.uk/public/downloads/pcddb_pcd_and_gen.zip\"\n",
    "\n",
    "r = requests.get(data_url, stream = True) #stream=True iterates through the data one chunk at a time\n",
    "z = ZipFile(io.BytesIO(r.content))"
   ]
  },
  {
   "cell_type": "markdown",
   "id": "f48c8395-3742-4fca-ac46-cb47c77c91e8",
   "metadata": {},
   "source": [
    "The code above connects to the database and generates a ZipFile object of all the files in the database. Let's explore the contents of this object and see if we can be judicious in which components we extract. The first question is the file type. The database info mentions that there are .gen and .pcd files. .gen files are described as \"an alternative output\" to be compatible with CDTool. Since we are not using this software, the .pcd file format would be sufficient and preferred. From a brief glance in the console, it seems likely that each file comes in both formats, but let's check to be sure."
   ]
  },
  {
   "cell_type": "code",
   "execution_count": 3,
   "id": "4ec52ae9-1137-4973-b0f9-6b9186253a0d",
   "metadata": {},
   "outputs": [
    {
     "name": "stdout",
     "output_type": "stream",
     "text": [
      "There are 560 files in both .pcd and .gen formats, out of a total 560 .gen files and 560 .pcd files.\n"
     ]
    }
   ],
   "source": [
    "# Database or series with all the .gen file names, another with .pcd filenames, look for which ones don't match\n",
    "filenames = z.namelist()\n",
    "\n",
    "pcd = [file for file in filenames if file[-3:] == 'pcd']\n",
    "gen = [file for file in filenames if file[-3:] == 'gen']\n",
    "\n",
    "pcdID = pd.Series(pcd).str.split('.').str[0]\n",
    "genID = pd.Series(gen).str.split('.').str[0]\n",
    "\n",
    "print(f'There are {sum(pcdID == genID)} files in both .pcd and .gen formats, out of a total {len(gen)} .gen files and {len(pcd)} .pcd files.')"
   ]
  },
  {
   "cell_type": "markdown",
   "id": "08d73042-35f4-4fb2-b2bb-825a7cc66c32",
   "metadata": {},
   "source": [
    "Great! Seems like we only have to worry about half the data, those files in .pcd format. From the database, we have this information about how those files are formatted:\n",
    "\n",
    "The PCDDB has its own ASCII file format to present protein circular dichroism data in a standard way. In general, there are three areas of the file:\n",
    "    1. Header information - containing non-spectral data from the PCDDB record.\n",
    "    2. Spectral data - arranged columnwise, containing all of the non-raw data information.\n",
    "    3. Calibration data - arranged columnwise, containing the calibration spectrum, if available.\n",
    "\n",
    "We'll see if we can avoid having to worry about the calibration data for now. Let's try to to take a look at the file formats in more detail to figure out how to access the spectral data (and how it's laid out) and what non-spectral data we have. In particular, we want either the amino acid sequence or the UniProt ID to be able to cross reference that database and get the amino acid sequence."
   ]
  },
  {
   "cell_type": "code",
   "execution_count": 4,
   "id": "7aa1ade2-d6b2-4c8c-901f-062320de905d",
   "metadata": {},
   "outputs": [
    {
     "data": {
      "text/plain": [
       "b'PCDDB DATA FILE                                             \\r\\nPCDDBID                                                     CD0000001000\\r\\nFILE EXTRACTED                                              2019-07-30\\r\\nProtein Name                                                Aldolase\\r\\nAlternative Protein Names                                   Fructose-bisphosphate aldolase A\\r\\nSource Organism                                             Oryctolagus cuniculus (Rabbit)\\r\\nProtein Supplier                                            No data provided\\r\\nExpression System or natural source                         natural source\\r\\nExpressed As                                                Wild-type\\r\\nMutation Details                                            No data provided\\r\\nExpression tags (if any)                                    No data provided\\r\\nLigands Present and Concentration or ratio                  No data provided\\r\\nMacromolecular Partner(s) and Concentration or ratio        No data provided\\r\\nDeposition Date                                             2009-11-25\\r\\nDichroism Units of Raw Sample Data                          Daresbury Arbitrary Units\\r\\nDichroism Units of Raw Baseline Data                        Daresbury Arbitrary Units\\r\\nDichroism Units of Average Sample Data                      Daresbury Arbitrary Units\\r\\nDichroism Units of Averaged Baseline Data                   Daresbury Arbitrary Units\\r\\nDichroism Units of Net Smoothed Data                        Daresbury Arbitrary Units\\r\\nDichroism Units of Processed Data                           Delta Epsilon\\r\\nCD or SRCD                                                  SRCD\\r\\nProtein Concentration (mg/ml)                               4.9\\r\\nConcentration Quantification Method                         QAA\\r\\nProtein Purity (%)                                          No data provided\\r\\nPurity Quantification Method                                No data provided\\r\\nBuffer Contents and Concentrations                          water\\r\\nBaseline Contents                                           water\\r\\nExperimental Temperature (C)                                4\\r\\nInstrument or beamline                                      Daresbury 12.1\\r\\nDetector Angle (Scattering Angle)                           No data provided\\r\\nSample Cell Pathlength (cm)                                 0.0015\\r\\nCell Pathlength Calibration Method                          Interferometry\\r\\nSample Cell Type                                            Cylindrical-Demountable\\r\\nSample Cell Composition                                     Suprasil\\r\\nSample Chamber Atmosphere                                   No data provided\\r\\nNumber of repeat scans                                      3\\r\\nContinuous or Stepped scan                                  No data provided\\r\\nMaximum (highest) wavelength, nm                            300\\r\\nMinimum (lowest) wavelength, nm                             175\\r\\nCriteria for low wavelength cutoff                          HT value\\r\\nWavelength interval, nm                                     1\\r\\nDwell or Averaging time, seconds                            1\\r\\nExperimental Collection date                                2004-01-29\\r\\nLocal Spectrum Identifier                                   r7688\\r\\nCSA or ACS                                                  CSA\\r\\nDichroism Units for CSA Standard                            DRS units\\r\\nFinal Spectrum Calibrated                                   No data provided\\r\\nCSA/ACS Standard Concentration (mg/ml)                      9.35\\r\\nCSA/ACS Pathlength (mm)                                     0.1\\r\\nCSA/ACS Zeroed at                                           No data provided\\r\\nCSA/ACS Date Measured                                       2004-01-29\\r\\nCSA/ACS Ratio (192.5nm and 290.0 nm)                        2.28\\r\\nCD signal at 290nm (mdeg)                                   No data provided\\r\\nCSA/ACS Experiment temperature, C                           25\\r\\nMolecular Weight                                            39212\\r\\nNumber of Residues                                          363\\r\\nMean Residue Weight                                         108.3\\r\\nData Processing Software Name                               CDTool\\r\\nData Processing Software Version                            1.4\\r\\nNumber of Smoothing Points                                  5\\r\\nWavelength Range for Zeroing                                263-267\\r\\nSecondary Structure Calculated from                         PDB File\\r\\nDSSP value: alpha helix                                     0.425\\r\\nDSSP value: 3-10 helix                                      0.033\\r\\nDSSP value: pi helix                                        0.000\\r\\nDSSP value: beta strand                                     0.138\\r\\nDSSP value: beta bridge                                     0.006\\r\\nDSSP value: bonded turn                                     0.103\\r\\nDSSP value: bend                                            0.065\\r\\nDSSP value: loop or irregular                               0.230\\r\\nPDB ID                                                      1ado\\r\\nUniProt ID                                                  P00883\\r\\nEnzyme Classification (EC)                                  4.1.2.13\\r\\nMedline Entry                                               16787970\\r\\nCath Classification                                         3.20.20.70\\r\\nSequence                                                    PHSHPALTPE QKKELSDIAH RIVAPGKGIL AADESTGSIA KRLQSIGTEN TEENRRFYRQ LLLTADDRVN PCIGGVILFH ETLYQKADDG RPFPQVIKSK GGVVGIKVDK GVVPLAGTNG ETTTQGLDGL SERCAQYKKD GADFAKWRCV LKIGEHTPSA LAIMENANVL ARYASICQQN GIVPIVEPEI LPDGDHDLKR CQYVTEKVLA AVYKALSDHH IYLEGTLLKP NMVTPGHACT QKYSHEEIAM ATVTALRRTV PPAVTGVTFL SGGQSEEEAS INLNAINKCP LLKPWALTFS YGRALQASAL KAWGGKKENL KAAQEEYVKR ALANSLACQG KYTPSGQAGA AASESLFISN HAY \\r\\nType of protein                                             soluble globular\\r\\nKeyword/phrase A                                            SP175\\r\\nKeyword/phrase B                                            single domain type\\r\\nKeyword/phrase C                                            mixed alpha beta\\r\\nKeyword/phrase D                                            No data provided\\r\\nKeyword/phrase E                                            No data provided\\r\\nKeyword/phrase F                                            No data provided\\r\\nKeyword/phrase G                                            No data provided\\r\\nKeyword/phrase H                                            No data provided\\r\\nKeyword/phrase I                                            No data provided\\r\\nKeyword/phrase J                                            No data provided\\r\\nPublication Authors                                         Lees, J.G., Wien, F., Miles, A.J. & Wallace, B.A.,\\r\\nPublication Year                                            2006\\r\\nPublication Journal                                         Bioinformatics\\r\\nPublication Title                                           A reference database for circular dichroism spectroscopy covering fold and secondary structure space\\r\\nPublication Volume                                          22\\r\\nPublication Pages                                           1955-1962\\r\\nDepositor Name                                              Andrew Miles\\r\\nDepartment/School name                                      Crystallography\\r\\nUniversity/Institution/Corporation                          Birkbeck\\r\\nDepositor Country                                           United Kingdom\\r\\nName of Principal Investigator (if not depositor)           B.A. Wallace\\r\\nDATA (1. Wavelength. 2. Final. 3. HT. 4.Smoothed. 5. Avg. Sample. 6. Avg. Baseline.)\\r\\n300.0    -1.86599E-02      2.37727E+05     -1.29733E+02      4.65689E+05      4.65406E+05 \\r\\n299.0    -1.09954E-01      2.37082E+05     -7.65400E+02      4.65460E+05      4.65812E+05 \\r\\n298.0    -4.50518E-03      2.36498E+05     -3.14000E+01      4.65667E+05      4.65285E+05 \\r\\n297.0     4.45404E-02      2.35893E+05      3.10822E+02      4.66046E+05      4.65040E+05 \\r\\n296.0     5.93468E-02      2.35366E+05      4.14663E+02      4.65563E+05      4.64877E+05 \\r\\n295.0     4.22016E-02      2.34871E+05      2.95235E+02      4.65573E+05      4.64823E+05 \\r\\n294.0    -2.27566E-02      2.34381E+05     -1.59400E+02      4.65196E+05      4.64929E+05 \\r\\n293.0    -2.93504E-02      2.33948E+05     -2.05844E+02      4.65269E+05      4.65090E+05 \\r\\n292.0    -4.68933E-02      2.33530E+05     -3.29289E+02      4.65006E+05      4.65289E+05 \\r\\n291.0    -2.96971E-02      2.33134E+05     -2.08797E+02      4.66101E+05      4.65282E+05 \\r\\n290.0    -1.82010E-02      2.32729E+05     -1.28130E+02      4.65371E+05      4.65313E+05 \\r\\n289.0     4.18927E-02      2.32355E+05      2.95283E+02      4.65491E+05      4.65071E+05 \\r\\n288.0     2.65797E-02      2.31969E+05      1.87584E+02      4.65820E+05      4.64912E+05 \\r\\n287.0     2.56612E-02      2.31632E+05      1.81330E+02      4.65770E+05      4.64940E+05 \\r\\n286.0     8.99179E-04      2.31320E+05      6.36189E+00      4.64915E+05      4.65054E+05 \\r\\n285.0    -2.92453E-02      2.30985E+05     -2.07178E+02      4.65604E+05      4.65169E+05 \\r\\n284.0    -3.76852E-02      2.30712E+05     -2.67305E+02      4.65556E+05      4.65243E+05 \\r\\n283.0     2.82274E-02      2.30432E+05      2.00473E+02      4.65431E+05      4.65070E+05 \\r\\n282.0     3.57029E-02      2.30130E+05      2.53886E+02      4.65571E+05      4.64893E+05 \\r\\n281.0     3.57913E-02      2.29854E+05      2.54838E+02      4.65925E+05      4.64946E+05 \\r\\n280.0     1.78895E-02      2.29604E+05      1.27537E+02      4.65090E+05      4.64901E+05 \\r\\n279.0    -9.24868E-03      2.29375E+05     -6.60191E+01      4.65560E+05      4.64888E+05 \\r\\n278.0    -4.26050E-02      2.29083E+05     -3.04511E+02      4.64709E+05      4.64939E+05 \\r\\n277.0    -5.66106E-02      2.28831E+05     -4.05130E+02      4.65127E+05      4.64827E+05 \\r\\n276.0    -3.10462E-02      2.28565E+05     -2.22464E+02      4.64892E+05      4.64859E+05 \\r\\n275.0     3.67205E-03      2.28319E+05      2.63460E+01      4.64589E+05      4.64704E+05 \\r\\n274.0    -3.00058E-02      2.28071E+05     -2.15559E+02      4.66120E+05      4.64626E+05 \\r\\n273.0    -2.04808E-02      2.27377E+05     -1.47321E+02      4.63940E+05      4.64397E+05 \\r\\n272.0    -3.98485E-02      2.27188E+05     -2.87003E+02      4.63986E+05      4.64247E+05 \\r\\n271.0    -7.69772E-02      2.27035E+05     -5.55130E+02      4.64550E+05      4.64127E+05 \\r\\n270.0    -4.40855E-02      2.26846E+05     -3.18337E+02      4.63971E+05      4.64028E+05 \\r\\n269.0    -6.79294E-03      2.26598E+05     -4.91143E+01      4.64053E+05      4.63791E+05 \\r\\n268.0    -4.33077E-02      2.26425E+05     -3.13527E+02      4.63820E+05      4.63722E+05 \\r\\n267.0    -1.98875E-02      2.26297E+05     -1.44162E+02      4.64187E+05      4.63559E+05 \\r\\n266.0    -2.04960E-02      2.26145E+05     -1.48765E+02      4.63053E+05      4.63368E+05 \\r\\n265.0     6.65702E-04      2.26006E+05      4.83809E+00      4.63953E+05      4.63100E+05 \\r\\n264.0    -1.16740E-03      2.25876E+05     -8.49524E+00      4.63117E+05      4.62899E+05 \\r\\n263.0     3.13795E-02      2.25744E+05      2.28648E+02      4.63322E+05      4.62605E+05 \\r\\n262.0    -8.00002E-03      2.25620E+05     -5.83682E+01      4.62851E+05      4.62451E+05 \\r\\n261.0     8.55150E-03      2.25483E+05      6.24730E+01      4.62716E+05      4.62315E+05 \\r\\n260.0     5.38965E-03      2.25370E+05      3.94254E+01      4.62394E+05      4.62219E+05 \\r\\n259.0    -7.65677E-03      2.25335E+05     -5.60826E+01      4.62949E+05      4.62135E+05 \\r\\n258.0    -4.52356E-02      2.25222E+05     -3.31765E+02      4.62228E+05      4.62132E+05 \\r\\n257.0    -3.04550E-02      2.25129E+05     -2.23654E+02      4.61615E+05      4.61819E+05 \\r\\n256.0    -6.19395E-02      2.25067E+05     -4.55464E+02      4.61663E+05      4.61644E+05 \\r\\n255.0    -8.38235E-02      2.25001E+05     -6.17194E+02      4.61615E+05      4.61324E+05 \\r\\n254.0    -9.87388E-02      2.24969E+05     -7.27971E+02      4.60689E+05      4.61186E+05 \\r\\n253.0    -7.39516E-02      2.24940E+05     -5.45940E+02      4.60116E+05      4.60959E+05 \\r\\n252.0    -6.08395E-02      2.24920E+05     -4.49733E+02      4.61318E+05      4.60871E+05 \\r\\n251.0    -3.95978E-02      2.24924E+05     -2.93098E+02      4.61315E+05      4.60899E+05 \\r\\n250.0    -9.52817E-02      2.24951E+05     -7.06194E+02      4.60481E+05      4.60978E+05 \\r\\n249.0    -1.50240E-01      2.24951E+05     -1.11500E+03      4.60282E+05      4.60854E+05 \\r\\n248.0    -1.98386E-01      2.25033E+05     -1.47426E+03      4.59211E+05      4.60695E+05 \\r\\n247.0    -1.52795E-01      2.25055E+05     -1.13697E+03      4.59964E+05      4.60375E+05 \\r\\n246.0    -1.56822E-01      2.25151E+05     -1.16848E+03      4.59066E+05      4.60292E+05 \\r\\n245.0    -2.51269E-01      2.25234E+05     -1.87470E+03      4.59826E+05      4.60410E+05 \\r\\n244.0    -3.52601E-01      2.25380E+05     -2.63423E+03      4.58050E+05      4.60517E+05 \\r\\n243.0    -4.67646E-01      2.25546E+05     -3.49837E+03      4.56584E+05      4.60561E+05 \\r\\n242.0    -6.24065E-01      2.25729E+05     -4.67475E+03      4.57395E+05      4.60572E+05 \\r\\n241.0    -7.41789E-01      2.25919E+05     -5.56402E+03      4.55031E+05      4.60619E+05 \\r\\n240.0    -8.91667E-01      2.26186E+05     -6.69718E+03      4.54106E+05      4.60571E+05 \\r\\n239.0    -1.11646E+00      2.26474E+05     -8.39683E+03      4.52870E+05      4.60417E+05 \\r\\n238.0    -1.29588E+00      2.26812E+05     -9.75931E+03      4.50822E+05      4.60336E+05 \\r\\n237.0    -1.53039E+00      2.27181E+05     -1.15409E+04      4.48796E+05      4.60254E+05 \\r\\n236.0    -1.78431E+00      2.27659E+05     -1.34738E+04      4.47621E+05      4.60242E+05 \\r\\n235.0    -2.02833E+00      2.28197E+05     -1.53371E+04      4.45044E+05      4.60230E+05 \\r\\n234.0    -2.29662E+00      2.28825E+05     -1.73892E+04      4.43062E+05      4.60048E+05 \\r\\n233.0    -2.63680E+00      2.29489E+05     -1.99919E+04      4.40745E+05      4.59993E+05 \\r\\n232.0    -2.98907E+00      2.30179E+05     -2.26935E+04      4.37486E+05      4.60047E+05 \\r\\n231.0    -3.35758E+00      2.30866E+05     -2.55258E+04      4.34698E+05      4.59921E+05 \\r\\n230.0    -3.78046E+00      2.31609E+05     -2.87797E+04      4.31898E+05      4.59930E+05 \\r\\n229.0    -4.20962E+00      2.32378E+05     -3.20903E+04      4.28378E+05      4.59906E+05 \\r\\n228.0    -4.62796E+00      2.33203E+05     -3.53274E+04      4.24739E+05      4.59881E+05 \\r\\n227.0    -4.97665E+00      2.34081E+05     -3.80408E+04      4.22052E+05      4.60046E+05 \\r\\n226.0    -5.23350E+00      2.34983E+05     -4.00587E+04      4.20469E+05      4.60148E+05 \\r\\n225.0    -5.42042E+00      2.35945E+05     -4.15461E+04      4.19582E+05      4.60046E+05 \\r\\n224.0    -5.56606E+00      2.36948E+05     -4.27208E+04      4.17454E+05      4.59972E+05 \\r\\n223.0    -5.66497E+00      2.38008E+05     -4.35395E+04      4.16179E+05      4.59839E+05 \\r\\n222.0    -5.75632E+00      2.39063E+05     -4.43023E+04      4.16331E+05      4.59771E+05 \\r\\n221.0    -5.76988E+00      2.40157E+05     -4.44676E+04      4.16051E+05      4.59925E+05 \\r\\n220.0    -5.75085E+00      2.41309E+05     -4.43819E+04      4.15488E+05      4.60125E+05 \\r\\n219.0    -5.71927E+00      2.42489E+05     -4.41990E+04      4.16918E+05      4.60272E+05 \\r\\n218.0    -5.64417E+00      2.43734E+05     -4.36788E+04      4.17183E+05      4.60426E+05 \\r\\n217.0    -5.56790E+00      2.45055E+05     -4.31480E+04      4.17569E+05      4.60390E+05 \\r\\n216.0    -5.51888E+00      2.46455E+05     -4.28273E+04      4.18215E+05      4.60337E+05 \\r\\n215.0    -5.44424E+00      2.47990E+05     -4.23066E+04      4.17926E+05      4.60427E+05 \\r\\n214.0    -5.42402E+00      2.49653E+05     -4.22079E+04      4.19090E+05      4.60787E+05 \\r\\n213.0    -5.46390E+00      2.51350E+05     -4.25773E+04      4.19541E+05      4.60980E+05 \\r\\n212.0    -5.48608E+00      2.53237E+05     -4.28096E+04      4.18532E+05      4.61090E+05 \\r\\n211.0    -5.52795E+00      2.55274E+05     -4.31964E+04      4.17356E+05      4.60907E+05 \\r\\n210.0    -5.59050E+00      2.57450E+05     -4.37461E+04      4.18408E+05      4.60729E+05 \\r\\n209.0    -5.53719E+00      2.59862E+05     -4.33894E+04      4.17594E+05      4.60476E+05 \\r\\n208.0    -5.40617E+00      2.62479E+05     -4.24220E+04      4.17883E+05      4.60750E+05 \\r\\n207.0    -5.05720E+00      2.65314E+05     -3.97392E+04      4.21707E+05      4.60877E+05 \\r\\n206.0    -4.37624E+00      2.68386E+05     -3.44365E+04      4.26770E+05      4.60922E+05 \\r\\n205.0    -3.45504E+00      2.71795E+05     -2.72258E+04      4.34122E+05      4.60863E+05 \\r\\n204.0    -2.34642E+00      2.75381E+05     -1.85158E+04      4.42820E+05      4.60779E+05 \\r\\n203.0    -1.13284E+00      2.79114E+05     -8.95197E+03      4.52203E+05      4.60900E+05 \\r\\n202.0     2.05535E-01      2.82982E+05      1.62647E+03      4.63651E+05      4.61071E+05 \\r\\n201.0     1.73085E+00      2.86832E+05      1.37162E+04      4.74666E+05      4.61177E+05 \\r\\n200.0     3.44883E+00      2.90790E+05      2.73690E+04      4.88742E+05      4.61484E+05 \\r\\n199.0     5.21041E+00      2.94733E+05      4.14070E+04      5.03949E+05      4.61777E+05 \\r\\n198.0     7.04131E+00      2.98580E+05      5.60365E+04      5.19196E+05      4.62243E+05 \\r\\n197.0     8.66812E+00      3.02141E+05      6.90810E+04      5.31212E+05      4.62854E+05 \\r\\n196.0     1.00287E+01      3.05281E+05      8.00379E+04      5.45036E+05      4.63258E+05 \\r\\n195.0     1.10595E+01      3.07787E+05      8.83901E+04      5.52402E+05      4.63655E+05 \\r\\n194.0     1.17863E+01      3.09530E+05      9.43332E+04      5.58063E+05      4.63999E+05 \\r\\n193.0     1.20970E+01      3.10580E+05      9.69589E+04      5.61464E+05      4.63996E+05 \\r\\n192.0     1.19016E+01      3.11049E+05      9.55288E+04      5.61709E+05      4.64457E+05 \\r\\n191.0     1.14434E+01      3.10949E+05      9.19825E+04      5.56901E+05      4.64673E+05 \\r\\n190.0     1.06104E+01      3.10309E+05      8.54095E+04      5.48991E+05      4.65184E+05 \\r\\n189.0     9.52093E+00      3.09217E+05      7.67496E+04      5.45064E+05      4.65597E+05 \\r\\n188.0     8.41149E+00      3.07841E+05      6.79038E+04      5.33758E+05      4.65796E+05 \\r\\n187.0     7.23668E+00      3.06382E+05      5.85040E+04      5.23526E+05      4.65740E+05 \\r\\n186.0     6.01864E+00      3.04943E+05      4.87271E+04      5.15923E+05      4.65658E+05 \\r\\n185.0     5.07300E+00      3.03634E+05      4.11305E+04      5.06211E+05      4.65493E+05 \\r\\n184.0     4.27767E+00      3.02641E+05      3.47324E+04      5.00404E+05      4.65650E+05 \\r\\n183.0     3.63388E+00      3.02030E+05      2.95479E+04      4.95745E+05      4.65506E+05 \\r\\n182.0     3.21849E+00      3.01898E+05      2.62083E+04      4.91986E+05      4.65232E+05 \\r\\n181.0     2.69014E+00      3.02243E+05      2.19377E+04      4.87264E+05      4.65031E+05 \\r\\n180.0     2.19357E+00      3.03279E+05      1.79143E+04      4.84168E+05      4.64598E+05 \\r\\n179.0     1.68626E+00      3.05014E+05      1.37913E+04      4.77169E+05      4.64087E+05 \\r\\n178.0     1.39442E+00      3.07607E+05      1.14211E+04      4.75344E+05      4.63911E+05 \\r\\n177.0     1.13101E+00      3.11042E+05      9.27719E+03      4.72425E+05      4.63600E+05 \\r\\n176.0     8.99792E-01      3.16169E+05      7.39139E+03      4.74118E+05      4.63497E+05 \\r\\n175.0     5.74792E-01      3.23528E+05      4.72858E+03      4.67334E+05      4.63187E+05 \\r\\nCALIBRATION (1. Wavelength. 2. Calibration Spectrum.)       \\r\\n350.0    -6.02000E+02\\r\\n349.0     3.84000E+02\\r\\n348.0    -9.54000E+02\\r\\n347.0     6.41000E+02\\r\\n346.0     1.46000E+02\\r\\n345.0     6.10000E+01\\r\\n344.0    -1.25300E+03\\r\\n343.0     5.18000E+02\\r\\n342.0     1.31000E+02\\r\\n341.0    -4.75000E+02\\r\\n340.0    -2.49000E+02\\r\\n339.0    -8.90000E+02\\r\\n338.0    -1.65000E+02\\r\\n337.0    -7.10000E+02\\r\\n336.0     4.25000E+02\\r\\n335.0     8.03000E+02\\r\\n334.0    -9.75000E+02\\r\\n333.0    -2.15000E+02\\r\\n332.0     4.20000E+02\\r\\n331.0    -1.72000E+02\\r\\n330.0     4.02000E+02\\r\\n329.0    -2.60000E+01\\r\\n328.0     4.43000E+02\\r\\n327.0     1.02000E+02\\r\\n326.0    -4.48000E+02\\r\\n325.0    -1.39000E+02\\r\\n324.0     3.93000E+02\\r\\n323.0     3.15000E+02\\r\\n322.0     4.52000E+02\\r\\n321.0     9.51000E+02\\r\\n320.0     5.47000E+02\\r\\n319.0     4.23000E+02\\r\\n318.0     3.08000E+02\\r\\n317.0     6.22000E+02\\r\\n316.0     1.40800E+03\\r\\n315.0     1.09600E+03\\r\\n314.0     2.64100E+03\\r\\n313.0     1.97100E+03\\r\\n312.0     3.43400E+03\\r\\n311.0     3.68400E+03\\r\\n310.0     4.81800E+03\\r\\n309.0     5.72300E+03\\r\\n308.0     6.48300E+03\\r\\n307.0     7.62000E+03\\r\\n306.0     8.60000E+03\\r\\n305.0     9.58700E+03\\r\\n304.0     1.06440E+04\\r\\n303.0     1.19720E+04\\r\\n302.0     1.30050E+04\\r\\n301.0     1.39840E+04\\r\\n300.0     1.48410E+04\\r\\n299.0     1.58470E+04\\r\\n298.0     1.71360E+04\\r\\n297.0     1.77570E+04\\r\\n296.0     1.83120E+04\\r\\n295.0     1.87890E+04\\r\\n294.0     1.92460E+04\\r\\n293.0     1.98640E+04\\r\\n292.0     2.00120E+04\\r\\n291.0     1.97090E+04\\r\\n290.0     1.98700E+04\\r\\n289.0     2.00620E+04\\r\\n288.0     2.02190E+04\\r\\n287.0     1.98820E+04\\r\\n286.0     1.94890E+04\\r\\n285.0     1.89410E+04\\r\\n284.0     1.82380E+04\\r\\n283.0     1.78040E+04\\r\\n282.0     1.69870E+04\\r\\n281.0     1.65490E+04\\r\\n280.0     1.57240E+04\\r\\n279.0     1.46880E+04\\r\\n278.0     1.36920E+04\\r\\n277.0     1.25880E+04\\r\\n276.0     1.21580E+04\\r\\n275.0     1.13480E+04\\r\\n274.0     1.03410E+04\\r\\n273.0     1.00180E+04\\r\\n272.0     9.15100E+03\\r\\n271.0     8.61800E+03\\r\\n270.0     7.77400E+03\\r\\n269.0     7.63700E+03\\r\\n268.0     6.13600E+03\\r\\n267.0     5.77000E+03\\r\\n266.0     5.26000E+03\\r\\n265.0     4.65300E+03\\r\\n264.0     4.03100E+03\\r\\n263.0     3.84200E+03\\r\\n262.0     3.28000E+03\\r\\n261.0     2.96000E+03\\r\\n260.0     2.84700E+03\\r\\n259.0     2.34500E+03\\r\\n258.0     1.73200E+03\\r\\n257.0     1.74900E+03\\r\\n256.0     1.45900E+03\\r\\n255.0     1.34700E+03\\r\\n254.0     1.05900E+03\\r\\n253.0     1.20300E+03\\r\\n252.0     1.21800E+03\\r\\n251.0     8.74000E+02\\r\\n250.0     5.33000E+02\\r\\n249.0     3.61000E+02\\r\\n248.0     3.98000E+02\\r\\n247.0     4.87000E+02\\r\\n246.0     2.05000E+02\\r\\n245.0     1.57000E+02\\r\\n244.0    -3.93000E+02\\r\\n243.0     4.86000E+02\\r\\n242.0     1.80000E+01\\r\\n241.0     2.91000E+02\\r\\n240.0    -3.40000E+01\\r\\n239.0     3.13000E+02\\r\\n238.0    -9.90000E+01\\r\\n237.0     5.17000E+02\\r\\n236.0     1.00000E+00\\r\\n235.0     7.00000E+01\\r\\n234.0     2.20000E+02\\r\\n233.0     9.80000E+01\\r\\n232.0    -2.41000E+02\\r\\n231.0    -4.40000E+01\\r\\n230.0    -3.41000E+02\\r\\n229.0    -2.43000E+02\\r\\n228.0     7.80000E+01\\r\\n227.0    -1.60000E+01\\r\\n226.0    -1.12000E+02\\r\\n225.0    -4.56000E+02\\r\\n224.0    -4.07000E+02\\r\\n223.0    -9.53000E+02\\r\\n222.0    -5.16000E+02\\r\\n221.0    -7.65000E+02\\r\\n220.0    -9.08000E+02\\r\\n219.0    -8.19000E+02\\r\\n218.0    -1.21700E+03\\r\\n217.0    -1.74800E+03\\r\\n216.0    -2.10300E+03\\r\\n215.0    -3.08900E+03\\r\\n214.0    -3.41900E+03\\r\\n213.0    -4.65600E+03\\r\\n212.0    -4.98200E+03\\r\\n211.0    -6.53000E+03\\r\\n210.0    -7.20000E+03\\r\\n209.0    -8.60600E+03\\r\\n208.0    -1.07320E+04\\r\\n207.0    -1.20970E+04\\r\\n206.0    -1.52050E+04\\r\\n205.0    -1.69700E+04\\r\\n204.0    -1.93170E+04\\r\\n203.0    -2.21600E+04\\r\\n202.0    -2.53020E+04\\r\\n201.0    -2.75660E+04\\r\\n200.0    -3.02640E+04\\r\\n199.0    -3.20690E+04\\r\\n198.0    -3.65900E+04\\r\\n197.0    -3.87550E+04\\r\\n196.0    -4.20840E+04\\r\\n195.0    -4.28180E+04\\r\\n194.0    -4.47820E+04\\r\\n193.0    -4.56490E+04\\r\\n192.0    -4.39760E+04\\r\\n191.0    -4.63810E+04\\r\\n190.0    -4.46250E+04\\r\\n189.0    -4.36580E+04\\r\\n188.0    -4.13370E+04\\r\\n187.0    -3.93900E+04\\r\\n186.0    -3.83860E+04\\r\\n185.0    -3.50000E+04\\r\\nPCDDB-END'"
      ]
     },
     "execution_count": 4,
     "metadata": {},
     "output_type": "execute_result"
    }
   ],
   "source": [
    "z.read(pcd[0])"
   ]
  },
  {
   "cell_type": "markdown",
   "id": "2c606667-ce79-4d68-9649-e02223185307",
   "metadata": {},
   "source": [
    "The above shows a simple read of one data file. Will need to read it in as delimited text, potentially with '\\r\\n' as delimiter. However, maybe let's try to split into multiple dataframes/series, since the DATA section is outlined as having 6 columns, the initial metadata sections doesn't really have any columns, and the calibration section has 2 columns."
   ]
  },
  {
   "cell_type": "code",
   "execution_count": 5,
   "id": "0b7e05b1-63be-41bb-aee8-2e35cf8eba35",
   "metadata": {},
   "outputs": [],
   "source": [
    "dataDelim = 'DATA (1. Wavelength. 2. Final. 3. HT. 4.Smoothed. 5. Avg. Sample. 6. Avg. Baseline.)'\n",
    "caliDelim = 'CALIBRATION (1. Wavelength. 2. Calibration Spectrum.)'\n",
    "\n",
    "data_columns = 'Wavelength  Final  HT  Smoothed  Avg. Sample  Avg.Baseline'\n",
    "cali_columns = 'Wavelength  Calibration Spectrum'"
   ]
  },
  {
   "cell_type": "code",
   "execution_count": 6,
   "id": "ad4a0a2e-661f-492c-b065-c4f05145e66b",
   "metadata": {},
   "outputs": [
    {
     "name": "stdout",
     "output_type": "stream",
     "text": [
      "                                             \n",
      "PCDDBID                                                     CD0000001000\n",
      "FILE EXTRACTED                                              2019-07-30\n",
      "Protein Name                                                Aldolase\n",
      "Alternative Protein Names                                   Fructose-bisphosphate aldolase A\n",
      "Source Organism                                             Oryctolagus cuniculus (Rabbit)\n",
      "Protein Supplier                                            No data provided\n",
      "Expression System or natural source                         natural source\n",
      "Expressed As                                                Wild-type\n",
      "Mutation Details                                            No data provided\n",
      "Expression tags (if any)                                    No data provided\n",
      "Ligands Present and Concentration or ratio                  No data provided\n",
      "Macromolecular Partner(s) and Concentration or ratio        No data provided\n",
      "Deposition Date                                             2009-11-25\n",
      "Dichroism Units of Raw Sample Data                          Daresbury Arbitrary Units\n",
      "Dichroism Units of Raw Baseline Data                        Daresbury Arbitrary Units\n",
      "Dichroism Units of Average Sample Data                      Daresbury Arbitrary Units\n",
      "Dichroism Units of Averaged Baseline Data                   Daresbury Arbitrary Units\n",
      "Dichroism Units of Net Smoothed Data                        Daresbury Arbitrary Units\n",
      "Dichroism Units of Processed Data                           Delta Epsilon\n",
      "CD or SRCD                                                  SRCD\n",
      "Protein Concentration (mg/ml)                               4.9\n",
      "Concentration Quantification Method                         QAA\n",
      "Protein Purity (%)                                          No data provided\n",
      "Purity Quantification Method                                No data provided\n",
      "Buffer Contents and Concentrations                          water\n",
      "Baseline Contents                                           water\n",
      "Experimental Temperature (C)                                4\n",
      "Instrument or beamline                                      Daresbury 12.1\n",
      "Detector Angle (Scattering Angle)                           No data provided\n",
      "Sample Cell Pathlength (cm)                                 0.0015\n",
      "Cell Pathlength Calibration Method                          Interferometry\n",
      "Sample Cell Type                                            Cylindrical-Demountable\n",
      "Sample Cell Composition                                     Suprasil\n",
      "Sample Chamber Atmosphere                                   No data provided\n",
      "Number of repeat scans                                      3\n",
      "Continuous or Stepped scan                                  No data provided\n",
      "Maximum (highest) wavelength, nm                            300\n",
      "Minimum (lowest) wavelength, nm                             175\n",
      "Criteria for low wavelength cutoff                          HT value\n",
      "Wavelength interval, nm                                     1\n",
      "Dwell or Averaging time, seconds                            1\n",
      "Experimental Collection date                                2004-01-29\n",
      "Local Spectrum Identifier                                   r7688\n",
      "CSA or ACS                                                  CSA\n",
      "Dichroism Units for CSA Standard                            DRS units\n",
      "Final Spectrum Calibrated                                   No data provided\n",
      "CSA/ACS Standard Concentration (mg/ml)                      9.35\n",
      "CSA/ACS Pathlength (mm)                                     0.1\n",
      "CSA/ACS Zeroed at                                           No data provided\n",
      "CSA/ACS Date Measured                                       2004-01-29\n",
      "CSA/ACS Ratio (192.5nm and 290.0 nm)                        2.28\n",
      "CD signal at 290nm (mdeg)                                   No data provided\n",
      "CSA/ACS Experiment temperature, C                           25\n",
      "Molecular Weight                                            39212\n",
      "Number of Residues                                          363\n",
      "Mean Residue Weight                                         108.3\n",
      "Data Processing Software Name                               CDTool\n",
      "Data Processing Software Version                            1.4\n",
      "Number of Smoothing Points                                  5\n",
      "Wavelength Range for Zeroing                                263-267\n",
      "Secondary Structure Calculated from                         PDB File\n",
      "DSSP value: alpha helix                                     0.425\n",
      "DSSP value: 3-10 helix                                      0.033\n",
      "DSSP value: pi helix                                        0.000\n",
      "DSSP value: beta strand                                     0.138\n",
      "DSSP value: beta bridge                                     0.006\n",
      "DSSP value: bonded turn                                     0.103\n",
      "DSSP value: bend                                            0.065\n",
      "DSSP value: loop or irregular                               0.230\n",
      "PDB ID                                                      1ado\n",
      "UniProt ID                                                  P00883\n",
      "Enzyme Classification (EC)                                  4.1.2.13\n",
      "Medline Entry                                               16787970\n",
      "Cath Classification                                         3.20.20.70\n",
      "Sequence                                                    PHSHPALTPE QKKELSDIAH RIVAPGKGIL AADESTGSIA KRLQSIGTEN TEENRRFYRQ LLLTADDRVN PCIGGVILFH ETLYQKADDG RPFPQVIKSK GGVVGIKVDK GVVPLAGTNG ETTTQGLDGL SERCAQYKKD GADFAKWRCV LKIGEHTPSA LAIMENANVL ARYASICQQN GIVPIVEPEI LPDGDHDLKR CQYVTEKVLA AVYKALSDHH IYLEGTLLKP NMVTPGHACT QKYSHEEIAM ATVTALRRTV PPAVTGVTFL SGGQSEEEAS INLNAINKCP LLKPWALTFS YGRALQASAL KAWGGKKENL KAAQEEYVKR ALANSLACQG KYTPSGQAGA AASESLFISN HAY \n",
      "Type of protein                                             soluble globular\n",
      "Keyword/phrase A                                            SP175\n",
      "Keyword/phrase B                                            single domain type\n",
      "Keyword/phrase C                                            mixed alpha beta\n",
      "Keyword/phrase D                                            No data provided\n",
      "Keyword/phrase E                                            No data provided\n",
      "Keyword/phrase F                                            No data provided\n",
      "Keyword/phrase G                                            No data provided\n",
      "Keyword/phrase H                                            No data provided\n",
      "Keyword/phrase I                                            No data provided\n",
      "Keyword/phrase J                                            No data provided\n",
      "Publication Authors                                         Lees, J.G., Wien, F., Miles, A.J. & Wallace, B.A.,\n",
      "Publication Year                                            2006\n",
      "Publication Journal                                         Bioinformatics\n",
      "Publication Title                                           A reference database for circular dichroism spectroscopy covering fold and secondary structure space\n",
      "Publication Volume                                          22\n",
      "Publication Pages                                           1955-1962\n",
      "Depositor Name                                              Andrew Miles\n",
      "Department/School name                                      Crystallography\n",
      "University/Institution/Corporation                          Birkbeck\n",
      "Depositor Country                                           United Kingdom\n",
      "Name of Principal Investigator (if not depositor)           B.A. Wallace\n",
      "\n"
     ]
    }
   ],
   "source": [
    "file1 = z.read(pcd[0])\n",
    "file1_splitmeta = file1.partition(str.encode(dataDelim))\n",
    "file1_splitdata = file1_splitmeta[2].partition(str.encode(caliDelim))\n",
    "\n",
    "metastr = file1_splitmeta[0].decode('utf8').replace('PCDDB DATA FILE', '')  # Converts to string in format KEY VALUE\n",
    "print(metastr)"
   ]
  },
  {
   "cell_type": "markdown",
   "id": "0c710fae-7385-45b9-a713-bd9a18387389",
   "metadata": {},
   "source": [
    "Note that the print outlook looks really nicely divided into columns. However, if we just look at the object in the console, it looks a little different."
   ]
  },
  {
   "cell_type": "code",
   "execution_count": 7,
   "id": "e131b1a9-fd2c-430a-aae8-7d13b875a23d",
   "metadata": {},
   "outputs": [
    {
     "data": {
      "text/plain": [
       "'                                             \\r\\nPCDDBID                                                     CD0000001000\\r\\nFILE EXTRACTED                                              2019-07-30\\r\\nProtein Name                                                Aldolase\\r\\nAlternative Protein Names                                   Fructose-bisphosphate aldolase A\\r\\nSource Organism                                             Oryctolagus cuniculus (Rabbit)\\r\\nProtein Supplier                                            No data provided\\r\\nExpression System or natural source                         natural source\\r\\nExpressed As                                                Wild-type\\r\\nMutation Details                                            No data provided\\r\\nExpression tags (if any)                                    No data provided\\r\\nLigands Present and Concentration or ratio                  No data provided\\r\\nMacromolecular Partner(s) and Concentration or ratio        No data provided\\r\\nDeposition Date                                             2009-11-25\\r\\nDichroism Units of Raw Sample Data                          Daresbury Arbitrary Units\\r\\nDichroism Units of Raw Baseline Data                        Daresbury Arbitrary Units\\r\\nDichroism Units of Average Sample Data                      Daresbury Arbitrary Units\\r\\nDichroism Units of Averaged Baseline Data                   Daresbury Arbitrary Units\\r\\nDichroism Units of Net Smoothed Data                        Daresbury Arbitrary Units\\r\\nDichroism Units of Processed Data                           Delta Epsilon\\r\\nCD or SRCD                                                  SRCD\\r\\nProtein Concentration (mg/ml)                               4.9\\r\\nConcentration Quantification Method                         QAA\\r\\nProtein Purity (%)                                          No data provided\\r\\nPurity Quantification Method                                No data provided\\r\\nBuffer Contents and Concentrations                          water\\r\\nBaseline Contents                                           water\\r\\nExperimental Temperature (C)                                4\\r\\nInstrument or beamline                                      Daresbury 12.1\\r\\nDetector Angle (Scattering Angle)                           No data provided\\r\\nSample Cell Pathlength (cm)                                 0.0015\\r\\nCell Pathlength Calibration Method                          Interferometry\\r\\nSample Cell Type                                            Cylindrical-Demountable\\r\\nSample Cell Composition                                     Suprasil\\r\\nSample Chamber Atmosphere                                   No data provided\\r\\nNumber of repeat scans                                      3\\r\\nContinuous or Stepped scan                                  No data provided\\r\\nMaximum (highest) wavelength, nm                            300\\r\\nMinimum (lowest) wavelength, nm                             175\\r\\nCriteria for low wavelength cutoff                          HT value\\r\\nWavelength interval, nm                                     1\\r\\nDwell or Averaging time, seconds                            1\\r\\nExperimental Collection date                                2004-01-29\\r\\nLocal Spectrum Identifier                                   r7688\\r\\nCSA or ACS                                                  CSA\\r\\nDichroism Units for CSA Standard                            DRS units\\r\\nFinal Spectrum Calibrated                                   No data provided\\r\\nCSA/ACS Standard Concentration (mg/ml)                      9.35\\r\\nCSA/ACS Pathlength (mm)                                     0.1\\r\\nCSA/ACS Zeroed at                                           No data provided\\r\\nCSA/ACS Date Measured                                       2004-01-29\\r\\nCSA/ACS Ratio (192.5nm and 290.0 nm)                        2.28\\r\\nCD signal at 290nm (mdeg)                                   No data provided\\r\\nCSA/ACS Experiment temperature, C                           25\\r\\nMolecular Weight                                            39212\\r\\nNumber of Residues                                          363\\r\\nMean Residue Weight                                         108.3\\r\\nData Processing Software Name                               CDTool\\r\\nData Processing Software Version                            1.4\\r\\nNumber of Smoothing Points                                  5\\r\\nWavelength Range for Zeroing                                263-267\\r\\nSecondary Structure Calculated from                         PDB File\\r\\nDSSP value: alpha helix                                     0.425\\r\\nDSSP value: 3-10 helix                                      0.033\\r\\nDSSP value: pi helix                                        0.000\\r\\nDSSP value: beta strand                                     0.138\\r\\nDSSP value: beta bridge                                     0.006\\r\\nDSSP value: bonded turn                                     0.103\\r\\nDSSP value: bend                                            0.065\\r\\nDSSP value: loop or irregular                               0.230\\r\\nPDB ID                                                      1ado\\r\\nUniProt ID                                                  P00883\\r\\nEnzyme Classification (EC)                                  4.1.2.13\\r\\nMedline Entry                                               16787970\\r\\nCath Classification                                         3.20.20.70\\r\\nSequence                                                    PHSHPALTPE QKKELSDIAH RIVAPGKGIL AADESTGSIA KRLQSIGTEN TEENRRFYRQ LLLTADDRVN PCIGGVILFH ETLYQKADDG RPFPQVIKSK GGVVGIKVDK GVVPLAGTNG ETTTQGLDGL SERCAQYKKD GADFAKWRCV LKIGEHTPSA LAIMENANVL ARYASICQQN GIVPIVEPEI LPDGDHDLKR CQYVTEKVLA AVYKALSDHH IYLEGTLLKP NMVTPGHACT QKYSHEEIAM ATVTALRRTV PPAVTGVTFL SGGQSEEEAS INLNAINKCP LLKPWALTFS YGRALQASAL KAWGGKKENL KAAQEEYVKR ALANSLACQG KYTPSGQAGA AASESLFISN HAY \\r\\nType of protein                                             soluble globular\\r\\nKeyword/phrase A                                            SP175\\r\\nKeyword/phrase B                                            single domain type\\r\\nKeyword/phrase C                                            mixed alpha beta\\r\\nKeyword/phrase D                                            No data provided\\r\\nKeyword/phrase E                                            No data provided\\r\\nKeyword/phrase F                                            No data provided\\r\\nKeyword/phrase G                                            No data provided\\r\\nKeyword/phrase H                                            No data provided\\r\\nKeyword/phrase I                                            No data provided\\r\\nKeyword/phrase J                                            No data provided\\r\\nPublication Authors                                         Lees, J.G., Wien, F., Miles, A.J. & Wallace, B.A.,\\r\\nPublication Year                                            2006\\r\\nPublication Journal                                         Bioinformatics\\r\\nPublication Title                                           A reference database for circular dichroism spectroscopy covering fold and secondary structure space\\r\\nPublication Volume                                          22\\r\\nPublication Pages                                           1955-1962\\r\\nDepositor Name                                              Andrew Miles\\r\\nDepartment/School name                                      Crystallography\\r\\nUniversity/Institution/Corporation                          Birkbeck\\r\\nDepositor Country                                           United Kingdom\\r\\nName of Principal Investigator (if not depositor)           B.A. Wallace\\r\\n'"
      ]
     },
     "execution_count": 7,
     "metadata": {},
     "output_type": "execute_result"
    }
   ],
   "source": [
    "metastr"
   ]
  },
  {
   "cell_type": "markdown",
   "id": "cf36a2b9-c88f-454a-9058-bc86a73ccfd6",
   "metadata": {},
   "source": [
    "Ideally, we could convert this into a dictionary with the left \"column\" as keys and the right \"column\" as values. The Python eval() function can take a dictionary formatted string object and convert it to a dictionary. To use that with this string, I think that we would need to add a colon between the intended keys and values. Note that this is complicated by the fact that the two \"columns\" are separated by an inconsistent number of spaces (since the key fields are of different lengths)."
   ]
  },
  {
   "cell_type": "code",
   "execution_count": 8,
   "id": "e7dd4ec0-69db-4076-8f79-7ce4371669ad",
   "metadata": {},
   "outputs": [
    {
     "name": "stdout",
     "output_type": "stream",
     "text": [
      "{'PCDDBID': 'CD0000001000', 'FILE EXTRACTED': '2019-07-30', 'Protein Name': 'Aldolase', 'Alternative Protein Names': 'Fructose-bisphosphate aldolase A', 'Source Organism': 'Oryctolagus cuniculus (Rabbit)', 'Protein Supplier': 'No data provided', 'Expression System or natural source': 'natural source', 'Expressed As': 'Wild-type', 'Mutation Details': 'No data provided', 'Expression tags (if any)': 'No data provided', 'Ligands Present and Concentration or ratio': 'No data provided', 'Macromolecular Partner(s) and Concentration or ratio': 'No data provided', 'Deposition Date': '2009-11-25', 'Dichroism Units of Raw Sample Data': 'Daresbury Arbitrary Units', 'Dichroism Units of Raw Baseline Data': 'Daresbury Arbitrary Units', 'Dichroism Units of Average Sample Data': 'Daresbury Arbitrary Units', 'Dichroism Units of Averaged Baseline Data': 'Daresbury Arbitrary Units', 'Dichroism Units of Net Smoothed Data': 'Daresbury Arbitrary Units', 'Dichroism Units of Processed Data': 'Delta Epsilon', 'CD or SRCD': 'SRCD', 'Protein Concentration (mg/ml)': '4.9', 'Concentration Quantification Method': 'QAA', 'Protein Purity (%)': 'No data provided', 'Purity Quantification Method': 'No data provided', 'Buffer Contents and Concentrations': 'water', 'Baseline Contents': 'water', 'Experimental Temperature (C)': '4', 'Instrument or beamline': 'Daresbury 12.1', 'Detector Angle (Scattering Angle)': 'No data provided', 'Sample Cell Pathlength (cm)': '0.0015', 'Cell Pathlength Calibration Method': 'Interferometry', 'Sample Cell Type': 'Cylindrical-Demountable', 'Sample Cell Composition': 'Suprasil', 'Sample Chamber Atmosphere': 'No data provided', 'Number of repeat scans': '3', 'Continuous or Stepped scan': 'No data provided', 'Maximum (highest) wavelength, nm': '300', 'Minimum (lowest) wavelength, nm': '175', 'Criteria for low wavelength cutoff': 'HT value', 'Wavelength interval, nm': '1', 'Dwell or Averaging time, seconds': '1', 'Experimental Collection date': '2004-01-29', 'Local Spectrum Identifier': 'r7688', 'CSA or ACS': 'CSA', 'Dichroism Units for CSA Standard': 'DRS units', 'Final Spectrum Calibrated': 'No data provided', 'CSA/ACS Standard Concentration (mg/ml)': '9.35', 'CSA/ACS Pathlength (mm)': '0.1', 'CSA/ACS Zeroed at': 'No data provided', 'CSA/ACS Date Measured': '2004-01-29', 'CSA/ACS Ratio (192.5nm and 290.0 nm)': '2.28', 'CD signal at 290nm (mdeg)': 'No data provided', 'CSA/ACS Experiment temperature, C': '25', 'Molecular Weight': '39212', 'Number of Residues': '363', 'Mean Residue Weight': '108.3', 'Data Processing Software Name': 'CDTool', 'Data Processing Software Version': '1.4', 'Number of Smoothing Points': '5', 'Wavelength Range for Zeroing': '263-267', 'Secondary Structure Calculated from': 'PDB File', 'DSSP value: alpha helix': '0.425', 'DSSP value: 3-10 helix': '0.033', 'DSSP value: pi helix': '0.000', 'DSSP value: beta strand': '0.138', 'DSSP value: beta bridge': '0.006', 'DSSP value: bonded turn': '0.103', 'DSSP value: bend': '0.065', 'DSSP value: loop or irregular': '0.230', 'PDB ID': '1ado', 'UniProt ID': 'P00883', 'Enzyme Classification (EC)': '4.1.2.13', 'Medline Entry': '16787970', 'Cath Classification': '3.20.20.70', 'Sequence': 'PHSHPALTPE QKKELSDIAH RIVAPGKGIL AADESTGSIA KRLQSIGTEN TEENRRFYRQ LLLTADDRVN PCIGGVILFH ETLYQKADDG RPFPQVIKSK GGVVGIKVDK GVVPLAGTNG ETTTQGLDGL SERCAQYKKD GADFAKWRCV LKIGEHTPSA LAIMENANVL ARYASICQQN GIVPIVEPEI LPDGDHDLKR CQYVTEKVLA AVYKALSDHH IYLEGTLLKP NMVTPGHACT QKYSHEEIAM ATVTALRRTV PPAVTGVTFL SGGQSEEEAS INLNAINKCP LLKPWALTFS YGRALQASAL KAWGGKKENL KAAQEEYVKR ALANSLACQG KYTPSGQAGA AASESLFISN HAY', 'Type of protein': 'soluble globular', 'Keyword/phrase A': 'SP175', 'Keyword/phrase B': 'single domain type', 'Keyword/phrase C': 'mixed alpha beta', 'Keyword/phrase D': 'No data provided', 'Keyword/phrase E': 'No data provided', 'Keyword/phrase F': 'No data provided', 'Keyword/phrase G': 'No data provided', 'Keyword/phrase H': 'No data provided', 'Keyword/phrase I': 'No data provided', 'Keyword/phrase J': 'No data provided', 'Publication Authors': 'Lees, J.G., Wien, F., Miles, A.J. & Wallace, B.A.,', 'Publication Year': '2006', 'Publication Journal': 'Bioinformatics', 'Publication Title': 'A reference database for circular dichroism spectroscopy covering fold and secondary structure space', 'Publication Volume': '22', 'Publication Pages': '1955-1962', 'Depositor Name': 'Andrew Miles', 'Department/School name': 'Crystallography', 'University/Institution/Corporation': 'Birkbeck', 'Depositor Country': 'United Kingdom', 'Name of Principal Investigator (if not depositor)': 'B.A. Wallace'}\n"
     ]
    }
   ],
   "source": [
    "metalist = re.split(r\"\\s{2,}\", metastr) # splits each entry into items in a list\n",
    "metalist = [entry for entry in metalist if entry != ''] # removes a few entries that are empty strings\n",
    "\n",
    "itm = iter(metalist)\n",
    "metadict = dict(zip(itm, itm))\n",
    "\n",
    "print(metadict)\n",
    "\n",
    "# map() and izip_longest() potential alternatives if this gets too slow"
   ]
  },
  {
   "cell_type": "code",
   "execution_count": 9,
   "id": "0968a7c6-f6bf-4ebf-859a-d3ef2cc4d7d4",
   "metadata": {},
   "outputs": [
    {
     "name": "stdout",
     "output_type": "stream",
     "text": [
      "Wavelength  Final  HT  Smoothed  Avg. Sample  Avg.Baseline\n",
      "300.0    -1.86599E-02      2.37727E+05     -1.29733E+02      4.65689E+05      4.65406E+05 \n",
      "299.0    -1.09954E-01      2.37082E+05     -7.65400E+02      4.65460E+05      4.65812E+05 \n",
      "298.0    -4.50518E-03      2.36498E+05     -3.14000E+01      4.65667E+05      4.65285E+05 \n",
      "297.0     4.45404E-02      2.35893E+05      3.10822E+02      4.66046E+05      4.65040E+05 \n",
      "296.0     5.93468E-02      2.35366E+05      4.14663E+02      4.65563E+05      4.64877E+05 \n",
      "295.0     4.22016E-02      2.34871E+05      2.95235E+02      4.65573E+05      4.64823E+05 \n",
      "294.0    -2.27566E-02      2.34381E+05     -1.59400E+02      4.65196E+05      4.64929E+05 \n",
      "293.0    -2.93504E-02      2.33948E+05     -2.05844E+02      4.65269E+05      4.65090E+05 \n",
      "292.0    -4.68933E-02      2.33530E+05     -3.29289E+02      4.65006E+05      4.65289E+05 \n",
      "291.0    -2.96971E-02      2.33134E+05     -2.08797E+02      4.66101E+05      4.65282E+05 \n",
      "290.0    -1.82010E-02      2.32729E+05     -1.28130E+02      4.65371E+05      4.65313E+05 \n",
      "289.0     4.18927E-02      2.32355E+05      2.95283E+02      4.65491E+05      4.65071E+05 \n",
      "288.0     2.65797E-02      2.31969E+05      1.87584E+02      4.65820E+05      4.64912E+05 \n",
      "287.0     2.56612E-02      2.31632E+05      1.81330E+02      4.65770E+05      4.64940E+05 \n",
      "286.0     8.99179E-04      2.31320E+05      6.36189E+00      4.64915E+05      4.65054E+05 \n",
      "285.0    -2.92453E-02      2.30985E+05     -2.07178E+02      4.65604E+05      4.65169E+05 \n",
      "284.0    -3.76852E-02      2.30712E+05     -2.67305E+02      4.65556E+05      4.65243E+05 \n",
      "283.0     2.82274E-02      2.30432E+05      2.00473E+02      4.65431E+05      4.65070E+05 \n",
      "282.0     3.57029E-02      2.30130E+05      2.53886E+02      4.65571E+05      4.64893E+05 \n",
      "281.0     3.57913E-02      2.29854E+05      2.54838E+02      4.65925E+05      4.64946E+05 \n",
      "280.0     1.78895E-02      2.29604E+05      1.27537E+02      4.65090E+05      4.64901E+05 \n",
      "279.0    -9.24868E-03      2.29375E+05     -6.60191E+01      4.65560E+05      4.64888E+05 \n",
      "278.0    -4.26050E-02      2.29083E+05     -3.04511E+02      4.64709E+05      4.64939E+05 \n",
      "277.0    -5.66106E-02      2.28831E+05     -4.05130E+02      4.65127E+05      4.64827E+05 \n",
      "276.0    -3.10462E-02      2.28565E+05     -2.22464E+02      4.64892E+05      4.64859E+05 \n",
      "275.0     3.67205E-03      2.28319E+05      2.63460E+01      4.64589E+05      4.64704E+05 \n",
      "274.0    -3.00058E-02      2.28071E+05     -2.15559E+02      4.66120E+05      4.64626E+05 \n",
      "273.0    -2.04808E-02      2.27377E+05     -1.47321E+02      4.63940E+05      4.64397E+05 \n",
      "272.0    -3.98485E-02      2.27188E+05     -2.87003E+02      4.63986E+05      4.64247E+05 \n",
      "271.0    -7.69772E-02      2.27035E+05     -5.55130E+02      4.64550E+05      4.64127E+05 \n",
      "270.0    -4.40855E-02      2.26846E+05     -3.18337E+02      4.63971E+05      4.64028E+05 \n",
      "269.0    -6.79294E-03      2.26598E+05     -4.91143E+01      4.64053E+05      4.63791E+05 \n",
      "268.0    -4.33077E-02      2.26425E+05     -3.13527E+02      4.63820E+05      4.63722E+05 \n",
      "267.0    -1.98875E-02      2.26297E+05     -1.44162E+02      4.64187E+05      4.63559E+05 \n",
      "266.0    -2.04960E-02      2.26145E+05     -1.48765E+02      4.63053E+05      4.63368E+05 \n",
      "265.0     6.65702E-04      2.26006E+05      4.83809E+00      4.63953E+05      4.63100E+05 \n",
      "264.0    -1.16740E-03      2.25876E+05     -8.49524E+00      4.63117E+05      4.62899E+05 \n",
      "263.0     3.13795E-02      2.25744E+05      2.28648E+02      4.63322E+05      4.62605E+05 \n",
      "262.0    -8.00002E-03      2.25620E+05     -5.83682E+01      4.62851E+05      4.62451E+05 \n",
      "261.0     8.55150E-03      2.25483E+05      6.24730E+01      4.62716E+05      4.62315E+05 \n",
      "260.0     5.38965E-03      2.25370E+05      3.94254E+01      4.62394E+05      4.62219E+05 \n",
      "259.0    -7.65677E-03      2.25335E+05     -5.60826E+01      4.62949E+05      4.62135E+05 \n",
      "258.0    -4.52356E-02      2.25222E+05     -3.31765E+02      4.62228E+05      4.62132E+05 \n",
      "257.0    -3.04550E-02      2.25129E+05     -2.23654E+02      4.61615E+05      4.61819E+05 \n",
      "256.0    -6.19395E-02      2.25067E+05     -4.55464E+02      4.61663E+05      4.61644E+05 \n",
      "255.0    -8.38235E-02      2.25001E+05     -6.17194E+02      4.61615E+05      4.61324E+05 \n",
      "254.0    -9.87388E-02      2.24969E+05     -7.27971E+02      4.60689E+05      4.61186E+05 \n",
      "253.0    -7.39516E-02      2.24940E+05     -5.45940E+02      4.60116E+05      4.60959E+05 \n",
      "252.0    -6.08395E-02      2.24920E+05     -4.49733E+02      4.61318E+05      4.60871E+05 \n",
      "251.0    -3.95978E-02      2.24924E+05     -2.93098E+02      4.61315E+05      4.60899E+05 \n",
      "250.0    -9.52817E-02      2.24951E+05     -7.06194E+02      4.60481E+05      4.60978E+05 \n",
      "249.0    -1.50240E-01      2.24951E+05     -1.11500E+03      4.60282E+05      4.60854E+05 \n",
      "248.0    -1.98386E-01      2.25033E+05     -1.47426E+03      4.59211E+05      4.60695E+05 \n",
      "247.0    -1.52795E-01      2.25055E+05     -1.13697E+03      4.59964E+05      4.60375E+05 \n",
      "246.0    -1.56822E-01      2.25151E+05     -1.16848E+03      4.59066E+05      4.60292E+05 \n",
      "245.0    -2.51269E-01      2.25234E+05     -1.87470E+03      4.59826E+05      4.60410E+05 \n",
      "244.0    -3.52601E-01      2.25380E+05     -2.63423E+03      4.58050E+05      4.60517E+05 \n",
      "243.0    -4.67646E-01      2.25546E+05     -3.49837E+03      4.56584E+05      4.60561E+05 \n",
      "242.0    -6.24065E-01      2.25729E+05     -4.67475E+03      4.57395E+05      4.60572E+05 \n",
      "241.0    -7.41789E-01      2.25919E+05     -5.56402E+03      4.55031E+05      4.60619E+05 \n",
      "240.0    -8.91667E-01      2.26186E+05     -6.69718E+03      4.54106E+05      4.60571E+05 \n",
      "239.0    -1.11646E+00      2.26474E+05     -8.39683E+03      4.52870E+05      4.60417E+05 \n",
      "238.0    -1.29588E+00      2.26812E+05     -9.75931E+03      4.50822E+05      4.60336E+05 \n",
      "237.0    -1.53039E+00      2.27181E+05     -1.15409E+04      4.48796E+05      4.60254E+05 \n",
      "236.0    -1.78431E+00      2.27659E+05     -1.34738E+04      4.47621E+05      4.60242E+05 \n",
      "235.0    -2.02833E+00      2.28197E+05     -1.53371E+04      4.45044E+05      4.60230E+05 \n",
      "234.0    -2.29662E+00      2.28825E+05     -1.73892E+04      4.43062E+05      4.60048E+05 \n",
      "233.0    -2.63680E+00      2.29489E+05     -1.99919E+04      4.40745E+05      4.59993E+05 \n",
      "232.0    -2.98907E+00      2.30179E+05     -2.26935E+04      4.37486E+05      4.60047E+05 \n",
      "231.0    -3.35758E+00      2.30866E+05     -2.55258E+04      4.34698E+05      4.59921E+05 \n",
      "230.0    -3.78046E+00      2.31609E+05     -2.87797E+04      4.31898E+05      4.59930E+05 \n",
      "229.0    -4.20962E+00      2.32378E+05     -3.20903E+04      4.28378E+05      4.59906E+05 \n",
      "228.0    -4.62796E+00      2.33203E+05     -3.53274E+04      4.24739E+05      4.59881E+05 \n",
      "227.0    -4.97665E+00      2.34081E+05     -3.80408E+04      4.22052E+05      4.60046E+05 \n",
      "226.0    -5.23350E+00      2.34983E+05     -4.00587E+04      4.20469E+05      4.60148E+05 \n",
      "225.0    -5.42042E+00      2.35945E+05     -4.15461E+04      4.19582E+05      4.60046E+05 \n",
      "224.0    -5.56606E+00      2.36948E+05     -4.27208E+04      4.17454E+05      4.59972E+05 \n",
      "223.0    -5.66497E+00      2.38008E+05     -4.35395E+04      4.16179E+05      4.59839E+05 \n",
      "222.0    -5.75632E+00      2.39063E+05     -4.43023E+04      4.16331E+05      4.59771E+05 \n",
      "221.0    -5.76988E+00      2.40157E+05     -4.44676E+04      4.16051E+05      4.59925E+05 \n",
      "220.0    -5.75085E+00      2.41309E+05     -4.43819E+04      4.15488E+05      4.60125E+05 \n",
      "219.0    -5.71927E+00      2.42489E+05     -4.41990E+04      4.16918E+05      4.60272E+05 \n",
      "218.0    -5.64417E+00      2.43734E+05     -4.36788E+04      4.17183E+05      4.60426E+05 \n",
      "217.0    -5.56790E+00      2.45055E+05     -4.31480E+04      4.17569E+05      4.60390E+05 \n",
      "216.0    -5.51888E+00      2.46455E+05     -4.28273E+04      4.18215E+05      4.60337E+05 \n",
      "215.0    -5.44424E+00      2.47990E+05     -4.23066E+04      4.17926E+05      4.60427E+05 \n",
      "214.0    -5.42402E+00      2.49653E+05     -4.22079E+04      4.19090E+05      4.60787E+05 \n",
      "213.0    -5.46390E+00      2.51350E+05     -4.25773E+04      4.19541E+05      4.60980E+05 \n",
      "212.0    -5.48608E+00      2.53237E+05     -4.28096E+04      4.18532E+05      4.61090E+05 \n",
      "211.0    -5.52795E+00      2.55274E+05     -4.31964E+04      4.17356E+05      4.60907E+05 \n",
      "210.0    -5.59050E+00      2.57450E+05     -4.37461E+04      4.18408E+05      4.60729E+05 \n",
      "209.0    -5.53719E+00      2.59862E+05     -4.33894E+04      4.17594E+05      4.60476E+05 \n",
      "208.0    -5.40617E+00      2.62479E+05     -4.24220E+04      4.17883E+05      4.60750E+05 \n",
      "207.0    -5.05720E+00      2.65314E+05     -3.97392E+04      4.21707E+05      4.60877E+05 \n",
      "206.0    -4.37624E+00      2.68386E+05     -3.44365E+04      4.26770E+05      4.60922E+05 \n",
      "205.0    -3.45504E+00      2.71795E+05     -2.72258E+04      4.34122E+05      4.60863E+05 \n",
      "204.0    -2.34642E+00      2.75381E+05     -1.85158E+04      4.42820E+05      4.60779E+05 \n",
      "203.0    -1.13284E+00      2.79114E+05     -8.95197E+03      4.52203E+05      4.60900E+05 \n",
      "202.0     2.05535E-01      2.82982E+05      1.62647E+03      4.63651E+05      4.61071E+05 \n",
      "201.0     1.73085E+00      2.86832E+05      1.37162E+04      4.74666E+05      4.61177E+05 \n",
      "200.0     3.44883E+00      2.90790E+05      2.73690E+04      4.88742E+05      4.61484E+05 \n",
      "199.0     5.21041E+00      2.94733E+05      4.14070E+04      5.03949E+05      4.61777E+05 \n",
      "198.0     7.04131E+00      2.98580E+05      5.60365E+04      5.19196E+05      4.62243E+05 \n",
      "197.0     8.66812E+00      3.02141E+05      6.90810E+04      5.31212E+05      4.62854E+05 \n",
      "196.0     1.00287E+01      3.05281E+05      8.00379E+04      5.45036E+05      4.63258E+05 \n",
      "195.0     1.10595E+01      3.07787E+05      8.83901E+04      5.52402E+05      4.63655E+05 \n",
      "194.0     1.17863E+01      3.09530E+05      9.43332E+04      5.58063E+05      4.63999E+05 \n",
      "193.0     1.20970E+01      3.10580E+05      9.69589E+04      5.61464E+05      4.63996E+05 \n",
      "192.0     1.19016E+01      3.11049E+05      9.55288E+04      5.61709E+05      4.64457E+05 \n",
      "191.0     1.14434E+01      3.10949E+05      9.19825E+04      5.56901E+05      4.64673E+05 \n",
      "190.0     1.06104E+01      3.10309E+05      8.54095E+04      5.48991E+05      4.65184E+05 \n",
      "189.0     9.52093E+00      3.09217E+05      7.67496E+04      5.45064E+05      4.65597E+05 \n",
      "188.0     8.41149E+00      3.07841E+05      6.79038E+04      5.33758E+05      4.65796E+05 \n",
      "187.0     7.23668E+00      3.06382E+05      5.85040E+04      5.23526E+05      4.65740E+05 \n",
      "186.0     6.01864E+00      3.04943E+05      4.87271E+04      5.15923E+05      4.65658E+05 \n",
      "185.0     5.07300E+00      3.03634E+05      4.11305E+04      5.06211E+05      4.65493E+05 \n",
      "184.0     4.27767E+00      3.02641E+05      3.47324E+04      5.00404E+05      4.65650E+05 \n",
      "183.0     3.63388E+00      3.02030E+05      2.95479E+04      4.95745E+05      4.65506E+05 \n",
      "182.0     3.21849E+00      3.01898E+05      2.62083E+04      4.91986E+05      4.65232E+05 \n",
      "181.0     2.69014E+00      3.02243E+05      2.19377E+04      4.87264E+05      4.65031E+05 \n",
      "180.0     2.19357E+00      3.03279E+05      1.79143E+04      4.84168E+05      4.64598E+05 \n",
      "179.0     1.68626E+00      3.05014E+05      1.37913E+04      4.77169E+05      4.64087E+05 \n",
      "178.0     1.39442E+00      3.07607E+05      1.14211E+04      4.75344E+05      4.63911E+05 \n",
      "177.0     1.13101E+00      3.11042E+05      9.27719E+03      4.72425E+05      4.63600E+05 \n",
      "176.0     8.99792E-01      3.16169E+05      7.39139E+03      4.74118E+05      4.63497E+05 \n",
      "175.0     5.74792E-01      3.23528E+05      4.72858E+03      4.67334E+05      4.63187E+05 \n",
      "\n"
     ]
    }
   ],
   "source": [
    "data = data_columns + file1_splitdata[0].decode('utf8')\n",
    "print(data)"
   ]
  },
  {
   "cell_type": "markdown",
   "id": "135da6fc-efb8-4597-9efe-da562b9b03d7",
   "metadata": {},
   "source": [
    "The code above generates a string with the data columns and names. Now, we will parse it into a pandas DataFrame in order to be able to manipulate it. "
   ]
  },
  {
   "cell_type": "code",
   "execution_count": 10,
   "id": "ec9e2fbd-3c0f-47df-8f1d-2cac03a76710",
   "metadata": {},
   "outputs": [
    {
     "name": "stdout",
     "output_type": "stream",
     "text": [
      "     Wavelength     Final        HT   Smoothed  Avg. Sample  Avg.Baseline\n",
      "0         300.0 -0.018660  237727.0   -129.733     465689.0      465406.0\n",
      "1         299.0 -0.109954  237082.0   -765.400     465460.0      465812.0\n",
      "2         298.0 -0.004505  236498.0    -31.400     465667.0      465285.0\n",
      "3         297.0  0.044540  235893.0    310.822     466046.0      465040.0\n",
      "4         296.0  0.059347  235366.0    414.663     465563.0      464877.0\n",
      "..          ...       ...       ...        ...          ...           ...\n",
      "121       179.0  1.686260  305014.0  13791.300     477169.0      464087.0\n",
      "122       178.0  1.394420  307607.0  11421.100     475344.0      463911.0\n",
      "123       177.0  1.131010  311042.0   9277.190     472425.0      463600.0\n",
      "124       176.0  0.899792  316169.0   7391.390     474118.0      463497.0\n",
      "125       175.0  0.574792  323528.0   4728.580     467334.0      463187.0\n",
      "\n",
      "[126 rows x 6 columns]\n"
     ]
    }
   ],
   "source": [
    "dataDF = pd.read_csv(io.StringIO(data), sep = r'\\s{2,}', engine = 'python')\n",
    "print(dataDF)"
   ]
  },
  {
   "cell_type": "markdown",
   "id": "085dcd7a-1dc4-46d1-abc5-a3ae93d89e2a",
   "metadata": {},
   "source": [
    "Now, we do the same thing with the calibration data, stripping off the final row which contains only 'PCDDB-END' as the wavelength and NaN in the Spectrum column."
   ]
  },
  {
   "cell_type": "code",
   "execution_count": 11,
   "id": "a9bcd150-9f70-4e7a-8a05-3428c44ee5f7",
   "metadata": {},
   "outputs": [
    {
     "name": "stdout",
     "output_type": "stream",
     "text": [
      "    Wavelength  Calibration Spectrum\n",
      "0        350.0                -602.0\n",
      "1        349.0                 384.0\n",
      "2        348.0                -954.0\n",
      "3        347.0                 641.0\n",
      "4        346.0                 146.0\n",
      "..         ...                   ...\n",
      "161      189.0              -43658.0\n",
      "162      188.0              -41337.0\n",
      "163      187.0              -39390.0\n",
      "164      186.0              -38386.0\n",
      "165      185.0              -35000.0\n",
      "\n",
      "[166 rows x 2 columns]\n"
     ]
    }
   ],
   "source": [
    "calib = cali_columns + file1_splitdata[2].decode('utf8')\n",
    "calibDF = pd.read_csv(io.StringIO(calib), sep = r'\\s{2,}', engine = 'python')\n",
    "assert calibDF.loc[len(calibDF)-1, 'Wavelength'] == 'PCDDB-END'\n",
    "calibDF.drop(calibDF.tail(1).index, inplace = True)\n",
    "print(calibDF)"
   ]
  },
  {
   "cell_type": "markdown",
   "id": "ef47eb84-dcfd-45d1-97e2-ed0da00b4288",
   "metadata": {},
   "source": [
    "Awesome, I have figured out how to parse the files in the database into metadata, spectrum data, and calibration information. The metadata dictionary even has a key for the sequence that we can use to pull that information, so we don't need to go into UniProt or any other databases. (Probably. Worth checking once we've unpacked all the data that there aren't null values here.)\n",
    "\n",
    "One last thing to check: which values do we want to use for the spectrum, at least at a first guess? Do the extracted data look generally reasonable? Let's visualize a few of the parameters!"
   ]
  },
  {
   "cell_type": "code",
   "execution_count": 12,
   "id": "40b4820e-39b3-4484-b0b8-3dfb522c5a11",
   "metadata": {},
   "outputs": [
    {
     "data": {
      "text/plain": [
       "<Axes: xlabel='Wavelength', ylabel='Smoothed'>"
      ]
     },
     "execution_count": 12,
     "metadata": {},
     "output_type": "execute_result"
    },
    {
     "data": {
      "image/png": "[encoded data removed]",
      "text/plain": [
       "<Figure size 432x288 with 1 Axes>"
      ]
     },
     "metadata": {},
     "output_type": "display_data"
    }
   ],
   "source": [
    "sns.scatterplot(data = dataDF, x = 'Wavelength', y = 'Smoothed')"
   ]
  },
  {
   "cell_type": "code",
   "execution_count": 13,
   "id": "c648fc67-d1d1-452b-aaf0-218a53ec5623",
   "metadata": {},
   "outputs": [
    {
     "data": {
      "text/plain": [
       "<Axes: xlabel='Wavelength', ylabel='Final'>"
      ]
     },
     "execution_count": 13,
     "metadata": {},
     "output_type": "execute_result"
    },
    {
     "data": {
      "image/png": "[encoded data removed]",
      "text/plain": [
       "<Figure size 432x288 with 1 Axes>"
      ]
     },
     "metadata": {},
     "output_type": "display_data"
    }
   ],
   "source": [
    "sns.scatterplot(data = dataDF, x = 'Wavelength', y = 'Final')"
   ]
  },
  {
   "cell_type": "code",
   "execution_count": 14,
   "id": "4b3ad286-231f-4400-9ccf-c02bccb2ae72",
   "metadata": {},
   "outputs": [
    {
     "data": {
      "text/plain": [
       "<Axes: xlabel='Wavelength', ylabel='Avg. Sample'>"
      ]
     },
     "execution_count": 14,
     "metadata": {},
     "output_type": "execute_result"
    },
    {
     "data": {
      "image/png": "[encoded data removed]",
      "text/plain": [
       "<Figure size 432x288 with 1 Axes>"
      ]
     },
     "metadata": {},
     "output_type": "display_data"
    }
   ],
   "source": [
    "sns.scatterplot(data = dataDF, x = 'Wavelength', y = 'Avg. Sample')"
   ]
  },
  {
   "cell_type": "markdown",
   "id": "0fe73964-b43b-4ba0-bb67-1726e6c85ef6",
   "metadata": {},
   "source": [
    "The shape of all the plots look basically the same (and like CD spectra). So yay! Probably can use all of them for the model, but can try multiples to see how they turn out. Default to Smoothed if no apparent reason to choose one column over another."
   ]
  },
  {
   "cell_type": "markdown",
   "id": "9a176a73-77ea-4766-aa02-87a05b497414",
   "metadata": {},
   "source": [
    "## Let's put it all together! \n",
    "\n",
    "Note to self: don't forget to spot check some files throughout the process to make sure they all processed correctly. Assert statements will be our friend."
   ]
  },
  {
   "cell_type": "code",
   "execution_count": 15,
   "id": "6ae0f940-8570-489f-b1f1-f620b0d9bc5f",
   "metadata": {},
   "outputs": [],
   "source": [
    "def process_pcd_file(zipfile, name):\n",
    "    '''Function to process file in PCDBB's pcd format. Takes as inputs a ZipFile object of database and the name of the file.\n",
    "    Outputs a dataframe that, for each file, contains a dictionary of the metadata, a dataframe of the CD data, and a dataframe\n",
    "    of the calibration data.'''\n",
    "\n",
    "    # Delimiter and column name definition\n",
    "    dataDelim = 'DATA (1. Wavelength. 2. Final. 3. HT. 4.Smoothed. 5. Avg. Sample. 6. Avg. Baseline.)'\n",
    "    calibDelim = 'CALIBRATION (1. Wavelength. 2. Calibration Spectrum.)'\n",
    "    data_columns = 'Wavelength  Final  HT  Smoothed  Avg. Sample  Avg.Baseline'\n",
    "    calib_columns = 'Wavelength  Calibration Spectrum'\n",
    "\n",
    "    file = zipfile.read(name)\n",
    "    \n",
    "    #partitions into meta data, CD data, and calibration data\n",
    "    file_splitmeta = file.partition(str.encode(dataDelim))\n",
    "    file_splitdata = file_splitmeta[2].partition(str.encode(calibDelim))\n",
    "\n",
    "    # put the meta data into a dictionary\n",
    "    metastr = file_splitmeta[0].decode('utf8').replace('PCDDB DATA FILE', '')\n",
    "    metalist = re.split(r\"\\s{2,}\", metastr) # splits each entry into items in a list\n",
    "    metalist = [entry for entry in metalist if entry != ''] # removes a few entries that are empty strings\n",
    "    itm = iter(metalist)\n",
    "    metadict = dict(zip(itm, itm))\n",
    "\n",
    "    # DataFrame of CD data\n",
    "    data = data_columns + file_splitdata[0].decode('utf8')\n",
    "    dataDF = pd.read_csv(io.StringIO(data), sep = r'\\s{2,}', engine = 'python')\n",
    "\n",
    "    # DataFrame of calibration data\n",
    "    calib = calib_columns + file_splitdata[2].decode('utf8')\n",
    "    calibDF = pd.read_csv(io.StringIO(calib), sep = r'\\s{2,}', engine = 'python')\n",
    "    assert calibDF.loc[len(calibDF)-1, 'Wavelength'] == 'PCDDB-END'\n",
    "    calibDF.drop(calibDF.tail(1).index, inplace = True)\n",
    "\n",
    "    return metadict, dataDF, calibDF\n",
    "    "
   ]
  },
  {
   "cell_type": "markdown",
   "id": "cb69e32f-b002-4de4-a4f9-b011ccb6feeb",
   "metadata": {},
   "source": [
    "The above is a function doing exactly what we did for our single test file for any .pcd file. (Note that it does not check whether the file format is correct, although it will likely throw an error if the input file deviates from the prescibed format. However, without having a better understanding of the distinctions with the other file types that might be mixed up with the .pcd files, it seems like all the checks that immediately came to mind could potentially cause more irritation than they prevented, so leaving as is for now.)\n",
    "\n",
    "Next, I will create an empty DataFrame with the right shape and loop over the pcd list, adding the output from each file to said DataFrame."
   ]
  },
  {
   "cell_type": "code",
   "execution_count": 16,
   "id": "66dd4699-06ef-4e12-8bfc-e7b2596b751f",
   "metadata": {},
   "outputs": [],
   "source": [
    "df = pd.DataFrame(columns = ['Info', 'CD', 'Calibration'], index = pcdID)\n",
    "\n",
    "for id in pcdID:\n",
    "    name = id + '.pcd'\n",
    "    meta, data, calib = process_pcd_file(z, name)\n",
    "    df.at[id, 'Info'] = meta\n",
    "    df.at[id, 'CD'] = data\n",
    "    df.at[id, 'Calibration'] = calib"
   ]
  },
  {
   "cell_type": "code",
   "execution_count": 17,
   "id": "ff4d4e58-e562-449d-8b68-73b9047f37a0",
   "metadata": {},
   "outputs": [
    {
     "name": "stdout",
     "output_type": "stream",
     "text": [
      "                                                           Info  ...                                        Calibration\n",
      "CD0000001000  {'PCDDBID': 'CD0000001000', 'FILE EXTRACTED': ...  ...      Wavelength  Calibration Spectrum\n",
      "0        ...\n",
      "CD0000002000  {'PCDDBID': 'CD0000002000', 'FILE EXTRACTED': ...  ...      Wavelength  Calibration Spectrum\n",
      "0        ...\n",
      "CD0000003000  {'PCDDBID': 'CD0000003000', 'FILE EXTRACTED': ...  ...      Wavelength  Calibration Spectrum\n",
      "0        ...\n",
      "CD0000004000  {'PCDDBID': 'CD0000004000', 'FILE EXTRACTED': ...  ...      Wavelength  Calibration Spectrum\n",
      "0        ...\n",
      "CD0000005000  {'PCDDBID': 'CD0000005000', 'FILE EXTRACTED': ...  ...      Wavelength  Calibration Spectrum\n",
      "0        ...\n",
      "...                                                         ...  ...                                                ...\n",
      "CD0006158000  {'PCDDBID': 'CD0006158000', 'FILE EXTRACTED': ...  ...      Wavelength  Calibration Spectrum\n",
      "0        ...\n",
      "CD0006141000  {'PCDDBID': 'CD0006141000', 'FILE EXTRACTED': ...  ...     Wavelength  Calibration Spectrum\n",
      "0       28...\n",
      "CD0006187000  {'PCDDBID': 'CD0006187000', 'FILE EXTRACTED': ...  ...     Wavelength  Calibration Spectrum\n",
      "0    270.0...\n",
      "CD0006188000  {'PCDDBID': 'CD0006188000', 'FILE EXTRACTED': ...  ...     Wavelength  Calibration Spectrum\n",
      "0    270.0...\n",
      "CD0006222000  {'PCDDBID': 'CD0006222000', 'FILE EXTRACTED': ...  ...     Wavelength  Calibration Spectrum\n",
      "0   -0.451...\n",
      "\n",
      "[560 rows x 3 columns]\n"
     ]
    }
   ],
   "source": [
    "print(df)"
   ]
  },
  {
   "cell_type": "code",
   "execution_count": 18,
   "id": "3efd47bf-8b14-46d9-957f-f57ed42736d1",
   "metadata": {},
   "outputs": [
    {
     "name": "stdout",
     "output_type": "stream",
     "text": [
      "CD0000001000         Wavelength     Final        HT   Smoothed...\n",
      "CD0000002000         Wavelength     Final       HT  Smoothed  ...\n",
      "CD0000003000         Wavelength     Final     HT  Smoothed  Av...\n",
      "CD0000004000         Wavelength     Final     HT  Smoothed  Av...\n",
      "CD0000005000         Wavelength     Final        HT   Smoothed...\n",
      "                                      ...                        \n",
      "CD0006158000         Wavelength     Final      HT  Smoothed  A...\n",
      "CD0006141000        Wavelength               Final  ...       ...\n",
      "CD0006187000        Wavelength                 Final  ...     ...\n",
      "CD0006188000        Wavelength                Final  ...      ...\n",
      "CD0006222000        Wavelength  Final        HT  Smoothed  Avg...\n",
      "Name: CD, Length: 560, dtype: object\n"
     ]
    }
   ],
   "source": [
    "print(df['CD'])"
   ]
  },
  {
   "cell_type": "code",
   "execution_count": 19,
   "id": "884ff527-9e2f-4932-9c90-6cef502f852d",
   "metadata": {},
   "outputs": [
    {
     "name": "stdout",
     "output_type": "stream",
     "text": [
      "     Wavelength     Final      HT  Smoothed  Avg. Sample  Avg.Baseline\n",
      "0           270 -0.006667  2.7427    2.7427       2.7427        2.7427\n",
      "1           269 -0.006603  2.7445    2.7445       2.7445        2.7445\n",
      "2           268 -0.020623  2.7461    2.7461       2.7461        2.7461\n",
      "3           267 -0.009190  2.7476    2.7476       2.7476        2.7476\n",
      "4           266  0.003143  2.7494    2.7494       2.7494        2.7494\n",
      "..          ...       ...     ...       ...          ...           ...\n",
      "96          174 -0.569470  6.1156    6.1156       6.1156        6.1156\n",
      "97          173 -0.363880  6.7333    6.7333       6.7333        6.7333\n",
      "98          172 -0.103060  6.8084    6.8084       6.8084        6.8084\n",
      "99          171 -0.160420  6.8435    6.8435       6.8435        6.8435\n",
      "100         170 -0.218550  6.8694    6.8694       6.8694        6.8694\n",
      "\n",
      "[101 rows x 6 columns]\n"
     ]
    }
   ],
   "source": [
    "print(df.at['CD0006158000', 'CD'])"
   ]
  },
  {
   "cell_type": "markdown",
   "id": "21875bf3-1680-4ed5-b369-961421653152",
   "metadata": {},
   "source": [
    "This looks like it populated exactly right! There is a lot of info here, so we will likely need to pull out subsets of this for the actual modeling, but this is now in a format where that should be relatively straightforward to do. Hooray! Now I will save the data for exploration and analysis."
   ]
  },
  {
   "cell_type": "code",
   "execution_count": 20,
   "id": "1d860feb-5d04-4170-ab7d-8637cc6aea43",
   "metadata": {},
   "outputs": [],
   "source": [
    "df.to_pickle('pcd_df.pkl')"
   ]
  },
  {
   "cell_type": "code",
   "execution_count": null,
   "id": "2da40916-d9b4-41a5-9768-e0856219fd4a",
   "metadata": {},
   "outputs": [],
   "source": []
  }
 ],
 "metadata": {
  "kernelspec": {
   "display_name": "Python 3 (Spyder)",
   "language": "python3",
   "name": "python3"
  },
  "language_info": {
   "codemirror_mode": {
    "name": "ipython",
    "version": 3
   },
   "file_extension": ".py",
   "mimetype": "text/x-python",
   "name": "python",
   "nbconvert_exporter": "python",
   "pygments_lexer": "ipython3",
   "version": "3.11.4"
  }
 },
 "nbformat": 4,
 "nbformat_minor": 5
}
